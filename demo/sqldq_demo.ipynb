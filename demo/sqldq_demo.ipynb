{
  "cells": [
    {
      "cell_type": "markdown",
      "id": "2e6c0477",
      "metadata": {},
      "source": [
        "### Demo\n",
        "\n",
        "Includes:\n",
        "- Generating sample data\n",
        "- Examples using various backends:\n",
        "  - DuckDB (Polars, Pandas)\n",
        "  - Pyspark\n",
        "  - Athena\n",
        "  - Postgres\n",
        "- Examples showcasing post-processing functionality:\n",
        "  - Reports for Alerting (Text, Markdown, HTML)\n",
        "  - Persist Error Cases (CSV, Parquet)"
      ]
    },
    {
      "cell_type": "markdown",
      "id": "668b7663",
      "metadata": {},
      "source": [
        "### Sample Data\n",
        "\n",
        "The sample data includes the following data quality issues, which are subsequently tested for:\n",
        "- Range check: age 150 is an implausible outlier\n",
        "- Duplicates: Duplicate user_id 4\n",
        "- Regex: email is invalid for user_id 3\n",
        "- Business Rule violation (multi-column): True: A, B; False: C, not met for user_id 3 (False, B)\n",
        "- Business Rule violation (multi-dataset): \"orders\"(order_id=3) includes user_id=5 which is missing in \"users\""
      ]
    },
    {
      "cell_type": "code",
      "execution_count": 1,
      "id": "36ddd721",
      "metadata": {},
      "outputs": [],
      "source": [
        "import polars as pl\n",
        "\n",
        "df_users = pl.DataFrame({\n",
        "        \"user_id\": [1, 2, 3, 4, 4],\n",
        "        \"age\": [25, 150, 22, 45, 30],\n",
        "        \"email\": [\"user1@example.com\", \"user2@example.com\", \"invalid-email\", \"user4@example.com\", \"user5@example.com\"],\n",
        "        \"score\": [85.5, 92.0, 78.3, 88.7, 95.2],\n",
        "        \"is_active\": [True, True, False, True, False],\n",
        "        \"category\": [\"A\", \"B\", \"B\", \"A\", \"C\"],\n",
        "    })\n",
        "\n",
        "df_orders = pl.DataFrame({\n",
        "        \"order_id\": [1, 2, 3],\n",
        "        \"user_id\": [1, 2, 5],\n",
        "        \"order_date\": [\"2021-01-01\", \"2021-01-02\", \"2021-01-03\"],\n",
        "        \"order_amount\": [100, 200, 300],\n",
        "    })"
      ]
    },
    {
      "cell_type": "markdown",
      "id": "cb008d6b",
      "metadata": {},
      "source": [
        "### DuckDB (Polars), also works for Pandas"
      ]
    },
    {
      "cell_type": "code",
      "execution_count": 2,
      "id": "ecf675b1",
      "metadata": {},
      "outputs": [
        {
          "data": {
            "text/plain": [
              "{'total_checks': 6, 'passed_checks': 1, 'failed_checks': 5}"
            ]
          },
          "execution_count": 2,
          "metadata": {},
          "output_type": "execute_result"
        }
      ],
      "source": [
        "from sqldq import SQLDQ\n",
        "import duckdb\n",
        "\n",
        "# DuckDB setup\n",
        "con = duckdb.connect()\n",
        "con.register(\"users\", df_users)\n",
        "con.register(\"orders\", df_orders)\n",
        "dq = SQLDQ.from_duckdb(con, default_max_rows=20)  \n",
        "\n",
        "# Checks\n",
        "dq = (dq.add_check(name=\"Age between 18 and 80\",\n",
        "                 failure_rows_query=\"SELECT * FROM users WHERE age NOT BETWEEN 18 AND 80\")\n",
        "      .add_check(name=\"Duplicate user IDs\",\n",
        "                  failure_rows_query=\"\"\"\n",
        "                  WITH duplicates AS (\n",
        "                      SELECT user_id, COUNT(*) AS count\n",
        "                      FROM users\n",
        "                      GROUP BY user_id\n",
        "                      HAVING COUNT(*) > 1\n",
        "                  )\n",
        "                  SELECT * FROM users WHERE user_id IN (SELECT user_id FROM duplicates)\"\"\",\n",
        "                  columns=[\"user_id\", \"email\"])\n",
        "      .add_check(name=\"Email format valid\",\n",
        "                  failure_rows_query=r\"SELECT * FROM users WHERE email !~ '^[^@]+@[^@]+\\.[^@]+'\",\n",
        "                  columns=[\"email\"])\n",
        "      .add_check(name=\"Missing user IDs in orders\",\n",
        "                  failure_rows_query=\"\"\"SELECT * FROM orders o \n",
        "                  LEFT JOIN users u ON o.user_id = u.user_id \n",
        "                  WHERE u.user_id IS NULL\"\"\",\n",
        "                  columns=[\"order_id\", \"user_id\"])\n",
        "        .add_check(name=\"Active users in category A or B only\",\n",
        "                    failure_rows_query=\"\"\"\n",
        "                    SELECT * FROM users\n",
        "                    WHERE is_active = TRUE AND category NOT IN ('A', 'B')\"\"\",\n",
        "                    columns=[\"user_id\", \"is_active\", \"category\"])\n",
        "        .add_check(name=\"Inactive users in category C only\",\n",
        "                    failure_rows_query=\"\"\"SELECT * FROM users \n",
        "                    WHERE is_active = FALSE AND category != 'C'\"\"\",\n",
        "                    columns=[\"user_id\", \"is_active\", \"category\"])\n",
        ")\n",
        "\n",
        "# Execution\n",
        "results = dq.execute()\n",
        "\n",
        "results.get_summary()"
      ]
    },
    {
      "cell_type": "markdown",
      "id": "667ae043",
      "metadata": {},
      "source": [
        "##### Programmatic Post-processing (Workflow)"
      ]
    },
    {
      "cell_type": "code",
      "execution_count": 3,
      "id": "ebd77db9",
      "metadata": {},
      "outputs": [
        {
          "name": "stdout",
          "output_type": "stream",
          "text": [
            "Checks failed. We should send a report.\n"
          ]
        }
      ],
      "source": [
        "if results.has_failures():\n",
        "    print(\"Checks failed. We should send a report.\")\n",
        "else:\n",
        "    print(\"All checks passed\")"
      ]
    },
    {
      "cell_type": "code",
      "execution_count": 4,
      "id": "7a7654c8",
      "metadata": {},
      "outputs": [
        {
          "data": {
            "text/plain": [
              "{'Age between 18 and 80': CheckResult(name='Age between 18 and 80', failed_rows=shape: (1, 6)\n",
              " \u250c\u2500\u2500\u2500\u2500\u2500\u2500\u2500\u2500\u2500\u252c\u2500\u2500\u2500\u2500\u2500\u252c\u2500\u2500\u2500\u2500\u2500\u2500\u2500\u2500\u2500\u2500\u2500\u2500\u2500\u2500\u2500\u2500\u2500\u2500\u2500\u252c\u2500\u2500\u2500\u2500\u2500\u2500\u2500\u252c\u2500\u2500\u2500\u2500\u2500\u2500\u2500\u2500\u2500\u2500\u2500\u252c\u2500\u2500\u2500\u2500\u2500\u2500\u2500\u2500\u2500\u2500\u2510\n",
              " \u2502 user_id \u2506 age \u2506 email             \u2506 score \u2506 is_active \u2506 category \u2502\n",
              " \u2502 ---     \u2506 --- \u2506 ---               \u2506 ---   \u2506 ---       \u2506 ---      \u2502\n",
              " \u2502 i64     \u2506 i64 \u2506 str               \u2506 f64   \u2506 bool      \u2506 str      \u2502\n",
              " \u255e\u2550\u2550\u2550\u2550\u2550\u2550\u2550\u2550\u2550\u256a\u2550\u2550\u2550\u2550\u2550\u256a\u2550\u2550\u2550\u2550\u2550\u2550\u2550\u2550\u2550\u2550\u2550\u2550\u2550\u2550\u2550\u2550\u2550\u2550\u2550\u256a\u2550\u2550\u2550\u2550\u2550\u2550\u2550\u256a\u2550\u2550\u2550\u2550\u2550\u2550\u2550\u2550\u2550\u2550\u2550\u256a\u2550\u2550\u2550\u2550\u2550\u2550\u2550\u2550\u2550\u2550\u2561\n",
              " \u2502 2       \u2506 150 \u2506 user2@example.com \u2506 92.0  \u2506 true      \u2506 B        \u2502\n",
              " \u2514\u2500\u2500\u2500\u2500\u2500\u2500\u2500\u2500\u2500\u2534\u2500\u2500\u2500\u2500\u2500\u2534\u2500\u2500\u2500\u2500\u2500\u2500\u2500\u2500\u2500\u2500\u2500\u2500\u2500\u2500\u2500\u2500\u2500\u2500\u2500\u2534\u2500\u2500\u2500\u2500\u2500\u2500\u2500\u2534\u2500\u2500\u2500\u2500\u2500\u2500\u2500\u2500\u2500\u2500\u2500\u2534\u2500\u2500\u2500\u2500\u2500\u2500\u2500\u2500\u2500\u2500\u2518, limit=20, error_message=None),\n",
              " 'Duplicate user IDs': CheckResult(name='Duplicate user IDs', failed_rows=shape: (2, 2)\n",
              " \u250c\u2500\u2500\u2500\u2500\u2500\u2500\u2500\u2500\u2500\u252c\u2500\u2500\u2500\u2500\u2500\u2500\u2500\u2500\u2500\u2500\u2500\u2500\u2500\u2500\u2500\u2500\u2500\u2500\u2500\u2510\n",
              " \u2502 user_id \u2506 email             \u2502\n",
              " \u2502 ---     \u2506 ---               \u2502\n",
              " \u2502 i64     \u2506 str               \u2502\n",
              " \u255e\u2550\u2550\u2550\u2550\u2550\u2550\u2550\u2550\u2550\u256a\u2550\u2550\u2550\u2550\u2550\u2550\u2550\u2550\u2550\u2550\u2550\u2550\u2550\u2550\u2550\u2550\u2550\u2550\u2550\u2561\n",
              " \u2502 4       \u2506 user4@example.com \u2502\n",
              " \u2502 4       \u2506 user5@example.com \u2502\n",
              " \u2514\u2500\u2500\u2500\u2500\u2500\u2500\u2500\u2500\u2500\u2534\u2500\u2500\u2500\u2500\u2500\u2500\u2500\u2500\u2500\u2500\u2500\u2500\u2500\u2500\u2500\u2500\u2500\u2500\u2500\u2518, limit=20, error_message=None),\n",
              " 'Email format valid': CheckResult(name='Email format valid', failed_rows=shape: (1, 1)\n",
              " \u250c\u2500\u2500\u2500\u2500\u2500\u2500\u2500\u2500\u2500\u2500\u2500\u2500\u2500\u2500\u2500\u2510\n",
              " \u2502 email         \u2502\n",
              " \u2502 ---           \u2502\n",
              " \u2502 str           \u2502\n",
              " \u255e\u2550\u2550\u2550\u2550\u2550\u2550\u2550\u2550\u2550\u2550\u2550\u2550\u2550\u2550\u2550\u2561\n",
              " \u2502 invalid-email \u2502\n",
              " \u2514\u2500\u2500\u2500\u2500\u2500\u2500\u2500\u2500\u2500\u2500\u2500\u2500\u2500\u2500\u2500\u2518, limit=20, error_message=None),\n",
              " 'Missing user IDs in orders': CheckResult(name='Missing user IDs in orders', failed_rows=shape: (1, 2)\n",
              " \u250c\u2500\u2500\u2500\u2500\u2500\u2500\u2500\u2500\u2500\u2500\u252c\u2500\u2500\u2500\u2500\u2500\u2500\u2500\u2500\u2500\u2510\n",
              " \u2502 order_id \u2506 user_id \u2502\n",
              " \u2502 ---      \u2506 ---     \u2502\n",
              " \u2502 i64      \u2506 i64     \u2502\n",
              " \u255e\u2550\u2550\u2550\u2550\u2550\u2550\u2550\u2550\u2550\u2550\u256a\u2550\u2550\u2550\u2550\u2550\u2550\u2550\u2550\u2550\u2561\n",
              " \u2502 3        \u2506 5       \u2502\n",
              " \u2514\u2500\u2500\u2500\u2500\u2500\u2500\u2500\u2500\u2500\u2500\u2534\u2500\u2500\u2500\u2500\u2500\u2500\u2500\u2500\u2500\u2518, limit=20, error_message=None),\n",
              " 'Active users in category A or B only': CheckResult(name='Active users in category A or B only', failed_rows=None, limit=20, error_message=None),\n",
              " 'Inactive users in category C only': CheckResult(name='Inactive users in category C only', failed_rows=shape: (1, 3)\n",
              " \u250c\u2500\u2500\u2500\u2500\u2500\u2500\u2500\u2500\u2500\u252c\u2500\u2500\u2500\u2500\u2500\u2500\u2500\u2500\u2500\u2500\u2500\u252c\u2500\u2500\u2500\u2500\u2500\u2500\u2500\u2500\u2500\u2500\u2510\n",
              " \u2502 user_id \u2506 is_active \u2506 category \u2502\n",
              " \u2502 ---     \u2506 ---       \u2506 ---      \u2502\n",
              " \u2502 i64     \u2506 bool      \u2506 str      \u2502\n",
              " \u255e\u2550\u2550\u2550\u2550\u2550\u2550\u2550\u2550\u2550\u256a\u2550\u2550\u2550\u2550\u2550\u2550\u2550\u2550\u2550\u2550\u2550\u256a\u2550\u2550\u2550\u2550\u2550\u2550\u2550\u2550\u2550\u2550\u2561\n",
              " \u2502 3       \u2506 false     \u2506 B        \u2502\n",
              " \u2514\u2500\u2500\u2500\u2500\u2500\u2500\u2500\u2500\u2500\u2534\u2500\u2500\u2500\u2500\u2500\u2500\u2500\u2500\u2500\u2500\u2500\u2534\u2500\u2500\u2500\u2500\u2500\u2500\u2500\u2500\u2500\u2500\u2518, limit=20, error_message=None)}"
            ]
          },
          "execution_count": 4,
          "metadata": {},
          "output_type": "execute_result"
        }
      ],
      "source": [
        "results.results"
      ]
    },
    {
      "cell_type": "code",
      "execution_count": 5,
      "id": "bcce3cdf",
      "metadata": {},
      "outputs": [
        {
          "name": "stdout",
          "output_type": "stream",
          "text": [
            "Check: Age between 18 and 80\n",
            "Failed rows count:\n",
            "1\n",
            "\n",
            "Check: Duplicate user IDs\n",
            "Failed rows count:\n",
            "2\n",
            "\n",
            "Check: Email format valid\n",
            "Failed rows count:\n",
            "1\n",
            "\n",
            "Check: Missing user IDs in orders\n",
            "Failed rows count:\n",
            "1\n",
            "\n",
            "Check: Active users in category A or B only\n",
            "Failed rows count:\n",
            "0\n",
            "\n",
            "Check: Inactive users in category C only\n",
            "Failed rows count:\n",
            "1\n",
            "\n"
          ]
        }
      ],
      "source": [
        "for name, check_result in results.results.items():\n",
        "    print(f\"Check: {name}\")\n",
        "    print(f\"Failed rows count:\\n{check_result.failure_count}\\n\")"
      ]
    },
    {
      "cell_type": "markdown",
      "id": "79351b4d",
      "metadata": {},
      "source": [
        "##### Reporting"
      ]
    },
    {
      "cell_type": "code",
      "execution_count": 6,
      "id": "fa9ecd54",
      "metadata": {},
      "outputs": [
        {
          "name": "stdout",
          "output_type": "stream",
          "text": [
            "{'total_checks': 6, 'passed_checks': 1, 'failed_checks': 5}\n"
          ]
        }
      ],
      "source": [
        "print(results.get_summary())"
      ]
    },
    {
      "cell_type": "code",
      "execution_count": 7,
      "id": "2c73c19d",
      "metadata": {},
      "outputs": [
        {
          "name": "stdout",
          "output_type": "stream",
          "text": [
            "Age between 18 and 80: \u274c\n",
            "\n",
            "Duplicate user IDs: \u274c\n",
            "\n",
            "Email format valid: \u274c\n",
            "\n",
            "Missing user IDs in orders: \u274c\n",
            "\n",
            "Active users in category A or B only: \u2705\n",
            "\n",
            "Inactive users in category C only: \u274c\n",
            "\n",
            "Summary: 6 checks, 5 failed\n"
          ]
        }
      ],
      "source": [
        "# Display results\n",
        "report = results.report()\n",
        "print(report)"
      ]
    },
    {
      "cell_type": "code",
      "execution_count": 8,
      "id": "add1ae27",
      "metadata": {},
      "outputs": [
        {
          "name": "stdout",
          "output_type": "stream",
          "text": [
            "Data Quality Check Summary\n",
            "==============================\n",
            "Total Checks: 6\n",
            "Passed: 1\n",
            "Failed: 5\n",
            "\n",
            "==================================================\n",
            "\n",
            "Age between 18 and 80: \u274c (up to 20 failures recorded)\n",
            "\u21b3 Failed rows (max 10 shown):\n",
            "shape: (1, 6)\n",
            "\u250c\u2500\u2500\u2500\u2500\u2500\u2500\u2500\u2500\u2500\u252c\u2500\u2500\u2500\u2500\u2500\u252c\u2500\u2500\u2500\u2500\u2500\u2500\u2500\u2500\u2500\u2500\u2500\u2500\u2500\u2500\u2500\u2500\u2500\u2500\u2500\u252c\u2500\u2500\u2500\u2500\u2500\u2500\u2500\u252c\u2500\u2500\u2500\u2500\u2500\u2500\u2500\u2500\u2500\u2500\u2500\u252c\u2500\u2500\u2500\u2500\u2500\u2500\u2500\u2500\u2500\u2500\u2510\n",
            "\u2502 user_id \u2506 age \u2506 email             \u2506 score \u2506 is_active \u2506 category \u2502\n",
            "\u2502 ---     \u2506 --- \u2506 ---               \u2506 ---   \u2506 ---       \u2506 ---      \u2502\n",
            "\u2502 i64     \u2506 i64 \u2506 str               \u2506 f64   \u2506 bool      \u2506 str      \u2502\n",
            "\u255e\u2550\u2550\u2550\u2550\u2550\u2550\u2550\u2550\u2550\u256a\u2550\u2550\u2550\u2550\u2550\u256a\u2550\u2550\u2550\u2550\u2550\u2550\u2550\u2550\u2550\u2550\u2550\u2550\u2550\u2550\u2550\u2550\u2550\u2550\u2550\u256a\u2550\u2550\u2550\u2550\u2550\u2550\u2550\u256a\u2550\u2550\u2550\u2550\u2550\u2550\u2550\u2550\u2550\u2550\u2550\u256a\u2550\u2550\u2550\u2550\u2550\u2550\u2550\u2550\u2550\u2550\u2561\n",
            "\u2502 2       \u2506 150 \u2506 user2@example.com \u2506 92.0  \u2506 true      \u2506 B        \u2502\n",
            "\u2514\u2500\u2500\u2500\u2500\u2500\u2500\u2500\u2500\u2500\u2534\u2500\u2500\u2500\u2500\u2500\u2534\u2500\u2500\u2500\u2500\u2500\u2500\u2500\u2500\u2500\u2500\u2500\u2500\u2500\u2500\u2500\u2500\u2500\u2500\u2500\u2534\u2500\u2500\u2500\u2500\u2500\u2500\u2500\u2534\u2500\u2500\u2500\u2500\u2500\u2500\u2500\u2500\u2500\u2500\u2500\u2534\u2500\u2500\u2500\u2500\u2500\u2500\u2500\u2500\u2500\u2500\u2518\n",
            "\n",
            "Duplicate user IDs: \u274c (up to 20 failures recorded)\n",
            "\u21b3 Failed rows (max 10 shown):\n",
            "shape: (2, 2)\n",
            "\u250c\u2500\u2500\u2500\u2500\u2500\u2500\u2500\u2500\u2500\u252c\u2500\u2500\u2500\u2500\u2500\u2500\u2500\u2500\u2500\u2500\u2500\u2500\u2500\u2500\u2500\u2500\u2500\u2500\u2500\u2510\n",
            "\u2502 user_id \u2506 email             \u2502\n",
            "\u2502 ---     \u2506 ---               \u2502\n",
            "\u2502 i64     \u2506 str               \u2502\n",
            "\u255e\u2550\u2550\u2550\u2550\u2550\u2550\u2550\u2550\u2550\u256a\u2550\u2550\u2550\u2550\u2550\u2550\u2550\u2550\u2550\u2550\u2550\u2550\u2550\u2550\u2550\u2550\u2550\u2550\u2550\u2561\n",
            "\u2502 4       \u2506 user4@example.com \u2502\n",
            "\u2502 4       \u2506 user5@example.com \u2502\n",
            "\u2514\u2500\u2500\u2500\u2500\u2500\u2500\u2500\u2500\u2500\u2534\u2500\u2500\u2500\u2500\u2500\u2500\u2500\u2500\u2500\u2500\u2500\u2500\u2500\u2500\u2500\u2500\u2500\u2500\u2500\u2518\n",
            "\n",
            "Email format valid: \u274c (up to 20 failures recorded)\n",
            "\u21b3 Failed rows (max 10 shown):\n",
            "shape: (1, 1)\n",
            "\u250c\u2500\u2500\u2500\u2500\u2500\u2500\u2500\u2500\u2500\u2500\u2500\u2500\u2500\u2500\u2500\u2510\n",
            "\u2502 email         \u2502\n",
            "\u2502 ---           \u2502\n",
            "\u2502 str           \u2502\n",
            "\u255e\u2550\u2550\u2550\u2550\u2550\u2550\u2550\u2550\u2550\u2550\u2550\u2550\u2550\u2550\u2550\u2561\n",
            "\u2502 invalid-email \u2502\n",
            "\u2514\u2500\u2500\u2500\u2500\u2500\u2500\u2500\u2500\u2500\u2500\u2500\u2500\u2500\u2500\u2500\u2518\n",
            "\n",
            "Missing user IDs in orders: \u274c (up to 20 failures recorded)\n",
            "\u21b3 Failed rows (max 10 shown):\n",
            "shape: (1, 2)\n",
            "\u250c\u2500\u2500\u2500\u2500\u2500\u2500\u2500\u2500\u2500\u2500\u252c\u2500\u2500\u2500\u2500\u2500\u2500\u2500\u2500\u2500\u2510\n",
            "\u2502 order_id \u2506 user_id \u2502\n",
            "\u2502 ---      \u2506 ---     \u2502\n",
            "\u2502 i64      \u2506 i64     \u2502\n",
            "\u255e\u2550\u2550\u2550\u2550\u2550\u2550\u2550\u2550\u2550\u2550\u256a\u2550\u2550\u2550\u2550\u2550\u2550\u2550\u2550\u2550\u2561\n",
            "\u2502 3        \u2506 5       \u2502\n",
            "\u2514\u2500\u2500\u2500\u2500\u2500\u2500\u2500\u2500\u2500\u2500\u2534\u2500\u2500\u2500\u2500\u2500\u2500\u2500\u2500\u2500\u2518\n",
            "\n",
            "Inactive users in category C only: \u274c (up to 20 failures recorded)\n",
            "\u21b3 Failed rows (max 10 shown):\n",
            "shape: (1, 3)\n",
            "\u250c\u2500\u2500\u2500\u2500\u2500\u2500\u2500\u2500\u2500\u252c\u2500\u2500\u2500\u2500\u2500\u2500\u2500\u2500\u2500\u2500\u2500\u252c\u2500\u2500\u2500\u2500\u2500\u2500\u2500\u2500\u2500\u2500\u2510\n",
            "\u2502 user_id \u2506 is_active \u2506 category \u2502\n",
            "\u2502 ---     \u2506 ---       \u2506 ---      \u2502\n",
            "\u2502 i64     \u2506 bool      \u2506 str      \u2502\n",
            "\u255e\u2550\u2550\u2550\u2550\u2550\u2550\u2550\u2550\u2550\u256a\u2550\u2550\u2550\u2550\u2550\u2550\u2550\u2550\u2550\u2550\u2550\u256a\u2550\u2550\u2550\u2550\u2550\u2550\u2550\u2550\u2550\u2550\u2561\n",
            "\u2502 3       \u2506 false     \u2506 B        \u2502\n",
            "\u2514\u2500\u2500\u2500\u2500\u2500\u2500\u2500\u2500\u2500\u2534\u2500\u2500\u2500\u2500\u2500\u2500\u2500\u2500\u2500\u2500\u2500\u2534\u2500\u2500\u2500\u2500\u2500\u2500\u2500\u2500\u2500\u2500\u2518"
          ]
        },
        {
          "name": "stdout",
          "output_type": "stream",
          "text": [
            "\n"
          ]
        }
      ],
      "source": [
        "report = results.report(output_format=\"text\",\n",
        "                        include_rows=True,\n",
        "                        include_summary_header=True,\n",
        "                        fail_only=True)\n",
        "print(report)"
      ]
    },
    {
      "cell_type": "code",
      "execution_count": 9,
      "id": "81a21a97",
      "metadata": {},
      "outputs": [],
      "source": [
        "report = results.report(output_format=\"markdown\",\n",
        "                        include_rows=True,\n",
        "                        include_summary_header=True,\n",
        "                        fail_only=True)"
      ]
    },
    {
      "cell_type": "code",
      "execution_count": 10,
      "id": "9ded6d9f",
      "metadata": {},
      "outputs": [
        {
          "name": "stdout",
          "output_type": "stream",
          "text": [
            "<h2>Data Quality Check Summary</h2>\n",
            "<p><strong>Total Checks:</strong> 6</p>\n",
            "<p><strong>Passed:</strong> 1</p>\n",
            "<p><strong>Failed:</strong> 5</p>\n",
            "<hr>\n",
            "\n",
            "<h3>Age between 18 and 80: \u274c <b>up to 20 failures recorded</b></h3><p><b>Failed rows (max 10 shown):</b></p><table border=\"1\" class=\"dataframe\">\n",
            "  <thead>\n",
            "    <tr style=\"text-align: right;\">\n",
            "      <th>user_id</th>\n",
            "      <th>age</th>\n",
            "      <th>email</th>\n",
            "      <th>score</th>\n",
            "      <th>is_active</th>\n",
            "      <th>category</th>\n",
            "    </tr>\n",
            "  </thead>\n",
            "  <tbody>\n",
            "    <tr>\n",
            "      <td>2</td>\n",
            "      <td>150</td>\n",
            "      <td>user2@example.com</td>\n",
            "      <td>92.0</td>\n",
            "      <td>True</td>\n",
            "      <td>B</td>\n",
            "    </tr>\n",
            "  </tbody>\n",
            "</table>\n",
            "\n",
            "<h3>Duplicate user IDs: \u274c <b>up to 20 failures recorded</b></h3><p><b>Failed rows (max 10 shown):</b></p><table border=\"1\" class=\"dataframe\">\n",
            "  <thead>\n",
            "    <tr style=\"text-align: right;\">\n",
            "      <th>user_id</th>\n",
            "      <th>email</th>\n",
            "    </tr>\n",
            "  </thead>\n",
            "  <tbody>\n",
            "    <tr>\n",
            "      <td>4</td>\n",
            "      <td>user4@example.com</td>\n",
            "    </tr>\n",
            "    <tr>\n",
            "      <td>4</td>\n",
            "      <td>user5@example.com</td>\n",
            "    </tr>\n",
            "  </tbody>\n",
            "</table>\n",
            "\n",
            "<h3>Email format valid: \u274c <b>up to 20 failures recorded</b></h3><p><b>Failed rows (max 10 shown):</b></p><table border=\"1\" class=\"dataframe\">\n",
            "  <thead>\n",
            "    <tr style=\"text-align: right;\">\n",
            "      <th>email</th>\n",
            "    </tr>\n",
            "  </thead>\n",
            "  <tbody>\n",
            "    <tr>\n",
            "      <td>invalid-email</td>\n",
            "    </tr>\n",
            "  </tbody>\n",
            "</table>\n",
            "\n",
            "<h3>Missing user IDs in orders: \u274c <b>up to 20 failures recorded</b></h3><p><b>Failed rows (max 10 shown):</b></p><table border=\"1\" class=\"dataframe\">\n",
            "  <thead>\n",
            "    <tr style=\"text-align: right;\">\n",
            "      <th>order_id</th>\n",
            "      <th>user_id</th>\n",
            "    </tr>\n",
            "  </thead>\n",
            "  <tbody>\n",
            "    <tr>\n",
            "      <td>3</td>\n",
            "      <td>5</td>\n",
            "    </tr>\n",
            "  </tbody>\n",
            "</table>\n",
            "\n",
            "<h3>Inactive users in category C only: \u274c <b>up to 20 failures recorded</b></h3><p><b>Failed rows (max 10 shown):</b></p><table border=\"1\" class=\"dataframe\">\n",
            "  <thead>\n",
            "    <tr style=\"text-align: right;\">\n",
            "      <th>user_id</th>\n",
            "      <th>is_active</th>\n",
            "      <th>category</th>\n",
            "    </tr>\n",
            "  </thead>\n",
            "  <tbody>\n",
            "    <tr>\n",
            "      <td>3</td>\n",
            "      <td>False</td>\n",
            "      <td>B</td>\n",
            "    </tr>\n",
            "  </tbody>\n",
            "</table>\n"
          ]
        }
      ],
      "source": [
        "report = results.report(output_format=\"html\",\n",
        "                        include_rows=True,\n",
        "                        include_summary_header=True,\n",
        "                        fail_only=True)\n",
        "print(report)"
      ]
    },
    {
      "cell_type": "code",
      "execution_count": 11,
      "id": "f6b92d0f",
      "metadata": {},
      "outputs": [],
      "source": [
        "timestamp = \"2025-01-01T12-34-56\""
      ]
    },
    {
      "cell_type": "code",
      "execution_count": 12,
      "id": "817da45d",
      "metadata": {},
      "outputs": [],
      "source": [
        "# Export reports\n",
        "results.export_report(f\"./demo/reports/{timestamp}_dq_report.txt\", output_format=\"text\", include_rows=True)\n",
        "results.export_report(f\"./demo/reports/{timestamp}_dq_report.md\", output_format=\"markdown\", include_rows=True)\n",
        "results.export_report(f\"./demo/reports/{timestamp}_dq_report.html\", output_format=\"html\", include_rows=True)"
      ]
    },
    {
      "cell_type": "markdown",
      "id": "8a686bc9",
      "metadata": {},
      "source": [
        "##### Persiting results"
      ]
    },
    {
      "cell_type": "code",
      "execution_count": 13,
      "id": "2f60477c",
      "metadata": {},
      "outputs": [],
      "source": [
        "# local exports\n",
        "results.export_failed_rows(f\"./demo/exports/{timestamp}_dq_fails_1\", output_format=\"csv\")\n",
        "results.export_failed_rows(f\"./demo/exports/{timestamp}_dq_fails_2\", output_format=\"parquet\")\n"
      ]
    },
    {
      "cell_type": "code",
      "execution_count": null,
      "id": "d6d2cec1",
      "metadata": {},
      "outputs": [],
      "source": [
        "# S3\n",
        "import boto3\n",
        "from datetime import datetime\n",
        "\n",
        "session = boto3.Session(profile_name=\"default\")\n",
        "\n",
        "bucket = \"your-bucket\"  # Replace with your S3 bucket name\n",
        "prefix = f\"dq-export-{datetime.now().isoformat()}\"\n",
        "\n",
        "results.export_failed_rows(f\"s3://{bucket}/{prefix}/{timestamp}_dq_fails_1\",\n",
        "                           output_format=\"csv\",\n",
        "                           boto3_session=session)\n",
        "results.export_failed_rows(f\"s3://{bucket}/{prefix}/{timestamp}_dq_fails_2\",\n",
        "                           output_format=\"parquet\",\n",
        "                           boto3_session=session)"
      ]
    },
    {
      "cell_type": "markdown",
      "id": "85111780",
      "metadata": {},
      "source": [
        "### Pyspark"
      ]
    },
    {
      "cell_type": "code",
      "execution_count": 15,
      "id": "7ffcd44d",
      "metadata": {},
      "outputs": [
        {
          "name": "stderr",
          "output_type": "stream",
          "text": [
            "WARNING: Using incubator modules: jdk.incubator.vector\n",
            "Using Spark's default log4j profile: org/apache/spark/log4j2-defaults.properties\n",
            "Setting default log level to \"WARN\".\n",
            "To adjust logging level use sc.setLogLevel(newLevel). For SparkR, use setLogLevel(newLevel).\n",
            "25/07/13 02:02:36 WARN NativeCodeLoader: Unable to load native-hadoop library for your platform... using builtin-java classes where applicable\n",
            "25/07/13 02:02:37 WARN Utils: Service 'SparkUI' could not bind on port 4040. Attempting port 4041.\n"
          ]
        }
      ],
      "source": [
        "\n",
        "from pyspark.sql import SparkSession\n",
        "\n",
        "spark = SparkSession.builder \\\n",
        "    .appName(\"sqldq_Example\") \\\n",
        "    .config(\"spark.sql.adaptive.enabled\", \"false\") \\\n",
        "    .getOrCreate()\n",
        "\n",
        "df_users_spark = spark.createDataFrame(df_users.to_pandas())\n",
        "df_users_spark.createOrReplaceTempView(\"users\")\n",
        "\n",
        "df_orders_spark = spark.createDataFrame(df_orders.to_pandas())\n",
        "df_orders_spark.createOrReplaceTempView(\"orders\")\n",
        "\n",
        "dq = SQLDQ.from_pyspark(spark, default_max_rows=15)"
      ]
    },
    {
      "cell_type": "code",
      "execution_count": 16,
      "id": "344f743c",
      "metadata": {},
      "outputs": [
        {
          "name": "stderr",
          "output_type": "stream",
          "text": [
            "                                                                                \r"
          ]
        },
        {
          "name": "stdout",
          "output_type": "stream",
          "text": [
            "Age between 18 and 80: \u274c\n",
            "\n",
            "Duplicate user IDs: \u274c\n",
            "\n",
            "Email format valid: \u274c\n",
            "\n",
            "Score within range: \u2705\n",
            "\n",
            "Active users in category A or B only: \u2705\n",
            "\n",
            "Inactive users in category C only: \u274c\n",
            "\n",
            "Summary: 6 checks, 4 failed\n"
          ]
        }
      ],
      "source": [
        "dq = (dq\n",
        "        .add_check(\n",
        "            name=\"Age between 18 and 80\",\n",
        "            failure_rows_query=\"SELECT * FROM users WHERE age < 18 OR age > 80\"\n",
        "        )\n",
        "        .add_check(name=\"Duplicate user IDs\",\n",
        "            failure_rows_query=\"\"\"\n",
        "            WITH duplicates AS (\n",
        "                SELECT user_id, COUNT(*) AS count\n",
        "                FROM users\n",
        "                GROUP BY user_id\n",
        "                HAVING COUNT(*) > 1\n",
        "            )\n",
        "            SELECT * FROM users WHERE user_id IN (SELECT user_id FROM duplicates)\"\"\",\n",
        "            columns=[\"user_id\", \"email\"])\n",
        "        .add_check(\n",
        "            name=\"Email format valid\",\n",
        "            failure_rows_query=r\"SELECT * FROM users WHERE NOT (email RLIKE '^[^@]+@[^@]+\\.[^@]+')\",\n",
        "            columns=[\"email\"]\n",
        "        )\n",
        "        .add_check(\n",
        "            name=\"Score within range\",\n",
        "            failure_rows_query=\"SELECT * FROM users WHERE score < 0 OR score > 100\"\n",
        "        )\n",
        "        .add_check(name=\"Active users in category A or B only\",\n",
        "                    failure_rows_query=\"\"\"\n",
        "                    SELECT * FROM users\n",
        "                    WHERE is_active = TRUE AND category NOT IN ('A', 'B')\"\"\",\n",
        "                    columns=[\"user_id\", \"is_active\", \"category\"])\n",
        "        .add_check(name=\"Inactive users in category C only\",\n",
        "                    failure_rows_query=\"\"\"SELECT * FROM users \n",
        "                    WHERE is_active = FALSE AND category != 'C'\"\"\",\n",
        "                    columns=[\"user_id\", \"is_active\", \"category\"])\n",
        "    )\n",
        "\n",
        "# Execute checks\n",
        "result = dq.execute()  \n",
        "\n",
        "# Display results\n",
        "report = result.report()\n",
        "print(report)"
      ]
    },
    {
      "cell_type": "markdown",
      "id": "a690f38a",
      "metadata": {},
      "source": [
        "### Postgres"
      ]
    },
    {
      "cell_type": "code",
      "execution_count": 17,
      "id": "0860d89a",
      "metadata": {},
      "outputs": [],
      "source": [
        "import psycopg2\n",
        "\n",
        "# Connect to PostgreSQL\n",
        "conn = psycopg2.connect(\n",
        "    host=\"postgres\",\n",
        "    database=\"sqldq_test\",\n",
        "    user=\"admin\",\n",
        "    password=\"admin\"\n",
        ")\n",
        "\n",
        "dq = SQLDQ.from_postgresql(conn, default_max_rows=25)"
      ]
    },
    {
      "cell_type": "code",
      "execution_count": 18,
      "id": "b98862d4",
      "metadata": {},
      "outputs": [
        {
          "name": "stdout",
          "output_type": "stream",
          "text": [
            "Age between 18 and 80: \u274c\n",
            "\n",
            "Duplicate user IDs: \u274c\n",
            "\n",
            "Email format valid: \u274c\n",
            "\n",
            "Missing user IDs in orders: \u274c\n",
            "\n",
            "Active users in category A or B only: \u2705\n",
            "\n",
            "Inactive users in category C only: \u274c\n",
            "\n",
            "Summary: 6 checks, 5 failed\n"
          ]
        }
      ],
      "source": [
        "dq = (dq\n",
        "        .add_check(\n",
        "            name=\"Age between 18 and 80\",\n",
        "            failure_rows_query=\"SELECT * FROM users WHERE age < 18 OR age > 80\"\n",
        "        )\n",
        "        .add_check(name=\"Duplicate user IDs\",\n",
        "                    failure_rows_query=\"\"\"\n",
        "                    WITH counts AS(\n",
        "                        SELECT user_id, COUNT(*) AS count\n",
        "                        FROM users\n",
        "                        GROUP BY user_id\n",
        "                    )\n",
        "                    SELECT * FROM counts\n",
        "                    WHERE count > 1\"\"\",\n",
        "                    columns=[\"user_id\", \"count\"])\n",
        "        .add_check(\n",
        "            name=\"Email format valid\",\n",
        "            failure_rows_query=r\"SELECT * FROM users WHERE email !~ '^[^@]+@[^@]+\\.[^@]+'\",\n",
        "            columns=[\"email\"]\n",
        "        )\n",
        "        .add_check(name=\"Missing user IDs in orders\",\n",
        "                    failure_rows_query=\"\"\"SELECT o.order_id, o.user_id FROM orders o \n",
        "                    LEFT JOIN users u ON o.user_id = u.user_id \n",
        "                    WHERE u.user_id IS NULL\"\"\",\n",
        "                    columns=[\"order_id\", \"user_id\"])\n",
        "        .add_check(name=\"Active users in category A or B only\",\n",
        "                    failure_rows_query=\"\"\"\n",
        "                    SELECT * FROM users\n",
        "                    WHERE is_active = TRUE AND category NOT IN ('A', 'B')\"\"\",\n",
        "                    columns=[\"user_id\", \"is_active\", \"category\"])\n",
        "        .add_check(name=\"Inactive users in category C only\",\n",
        "                    failure_rows_query=\"\"\"SELECT * FROM users \n",
        "                    WHERE is_active = FALSE AND category != 'C'\"\"\",\n",
        "                    columns=[\"user_id\", \"is_active\", \"category\"])\n",
        "    )\n",
        "\n",
        "# Execute checks\n",
        "result = dq.execute()  \n",
        "\n",
        "# Display results\n",
        "report = result.report()\n",
        "print(report)"
      ]
    },
    {
      "cell_type": "code",
      "execution_count": 19,
      "id": "2d6c1d06",
      "metadata": {},
      "outputs": [],
      "source": [
        "conn.close()"
      ]
    },
    {
      "cell_type": "code",
      "execution_count": 20,
      "id": "81435b34",
      "metadata": {},
      "outputs": [
        {
          "data": {
            "text/plain": [
              "{'Age between 18 and 80': CheckResult(name='Age between 18 and 80', failed_rows=shape: (1, 6)\n",
              " \u250c\u2500\u2500\u2500\u2500\u2500\u2500\u2500\u2500\u2500\u252c\u2500\u2500\u2500\u2500\u2500\u252c\u2500\u2500\u2500\u2500\u2500\u2500\u2500\u2500\u2500\u2500\u2500\u2500\u2500\u2500\u2500\u2500\u2500\u2500\u2500\u252c\u2500\u2500\u2500\u2500\u2500\u2500\u2500\u2500\u2500\u2500\u2500\u2500\u2500\u2500\u252c\u2500\u2500\u2500\u2500\u2500\u2500\u2500\u2500\u2500\u2500\u2500\u252c\u2500\u2500\u2500\u2500\u2500\u2500\u2500\u2500\u2500\u2500\u2510\n",
              " \u2502 user_id \u2506 age \u2506 email             \u2506 score        \u2506 is_active \u2506 category \u2502\n",
              " \u2502 ---     \u2506 --- \u2506 ---               \u2506 ---          \u2506 ---       \u2506 ---      \u2502\n",
              " \u2502 i64     \u2506 i64 \u2506 str               \u2506 decimal[4,2] \u2506 bool      \u2506 str      \u2502\n",
              " \u255e\u2550\u2550\u2550\u2550\u2550\u2550\u2550\u2550\u2550\u256a\u2550\u2550\u2550\u2550\u2550\u256a\u2550\u2550\u2550\u2550\u2550\u2550\u2550\u2550\u2550\u2550\u2550\u2550\u2550\u2550\u2550\u2550\u2550\u2550\u2550\u256a\u2550\u2550\u2550\u2550\u2550\u2550\u2550\u2550\u2550\u2550\u2550\u2550\u2550\u2550\u256a\u2550\u2550\u2550\u2550\u2550\u2550\u2550\u2550\u2550\u2550\u2550\u256a\u2550\u2550\u2550\u2550\u2550\u2550\u2550\u2550\u2550\u2550\u2561\n",
              " \u2502 2       \u2506 150 \u2506 user2@example.com \u2506 92.00        \u2506 true      \u2506 B        \u2502\n",
              " \u2514\u2500\u2500\u2500\u2500\u2500\u2500\u2500\u2500\u2500\u2534\u2500\u2500\u2500\u2500\u2500\u2534\u2500\u2500\u2500\u2500\u2500\u2500\u2500\u2500\u2500\u2500\u2500\u2500\u2500\u2500\u2500\u2500\u2500\u2500\u2500\u2534\u2500\u2500\u2500\u2500\u2500\u2500\u2500\u2500\u2500\u2500\u2500\u2500\u2500\u2500\u2534\u2500\u2500\u2500\u2500\u2500\u2500\u2500\u2500\u2500\u2500\u2500\u2534\u2500\u2500\u2500\u2500\u2500\u2500\u2500\u2500\u2500\u2500\u2518, limit=25, error_message=None),\n",
              " 'Duplicate user IDs': CheckResult(name='Duplicate user IDs', failed_rows=shape: (1, 2)\n",
              " \u250c\u2500\u2500\u2500\u2500\u2500\u2500\u2500\u2500\u2500\u252c\u2500\u2500\u2500\u2500\u2500\u2500\u2500\u2510\n",
              " \u2502 user_id \u2506 count \u2502\n",
              " \u2502 ---     \u2506 ---   \u2502\n",
              " \u2502 i64     \u2506 i64   \u2502\n",
              " \u255e\u2550\u2550\u2550\u2550\u2550\u2550\u2550\u2550\u2550\u256a\u2550\u2550\u2550\u2550\u2550\u2550\u2550\u2561\n",
              " \u2502 4       \u2506 2     \u2502\n",
              " \u2514\u2500\u2500\u2500\u2500\u2500\u2500\u2500\u2500\u2500\u2534\u2500\u2500\u2500\u2500\u2500\u2500\u2500\u2518, limit=25, error_message=None),\n",
              " 'Email format valid': CheckResult(name='Email format valid', failed_rows=shape: (1, 1)\n",
              " \u250c\u2500\u2500\u2500\u2500\u2500\u2500\u2500\u2500\u2500\u2500\u2500\u2500\u2500\u2500\u2500\u2510\n",
              " \u2502 email         \u2502\n",
              " \u2502 ---           \u2502\n",
              " \u2502 str           \u2502\n",
              " \u255e\u2550\u2550\u2550\u2550\u2550\u2550\u2550\u2550\u2550\u2550\u2550\u2550\u2550\u2550\u2550\u2561\n",
              " \u2502 invalid-email \u2502\n",
              " \u2514\u2500\u2500\u2500\u2500\u2500\u2500\u2500\u2500\u2500\u2500\u2500\u2500\u2500\u2500\u2500\u2518, limit=25, error_message=None),\n",
              " 'Missing user IDs in orders': CheckResult(name='Missing user IDs in orders', failed_rows=shape: (1, 2)\n",
              " \u250c\u2500\u2500\u2500\u2500\u2500\u2500\u2500\u2500\u2500\u2500\u252c\u2500\u2500\u2500\u2500\u2500\u2500\u2500\u2500\u2500\u2510\n",
              " \u2502 order_id \u2506 user_id \u2502\n",
              " \u2502 ---      \u2506 ---     \u2502\n",
              " \u2502 i64      \u2506 i64     \u2502\n",
              " \u255e\u2550\u2550\u2550\u2550\u2550\u2550\u2550\u2550\u2550\u2550\u256a\u2550\u2550\u2550\u2550\u2550\u2550\u2550\u2550\u2550\u2561\n",
              " \u2502 3        \u2506 5       \u2502\n",
              " \u2514\u2500\u2500\u2500\u2500\u2500\u2500\u2500\u2500\u2500\u2500\u2534\u2500\u2500\u2500\u2500\u2500\u2500\u2500\u2500\u2500\u2518, limit=25, error_message=None),\n",
              " 'Active users in category A or B only': CheckResult(name='Active users in category A or B only', failed_rows=None, limit=25, error_message=None),\n",
              " 'Inactive users in category C only': CheckResult(name='Inactive users in category C only', failed_rows=shape: (1, 3)\n",
              " \u250c\u2500\u2500\u2500\u2500\u2500\u2500\u2500\u2500\u2500\u252c\u2500\u2500\u2500\u2500\u2500\u2500\u2500\u2500\u2500\u2500\u2500\u252c\u2500\u2500\u2500\u2500\u2500\u2500\u2500\u2500\u2500\u2500\u2510\n",
              " \u2502 user_id \u2506 is_active \u2506 category \u2502\n",
              " \u2502 ---     \u2506 ---       \u2506 ---      \u2502\n",
              " \u2502 i64     \u2506 bool      \u2506 str      \u2502\n",
              " \u255e\u2550\u2550\u2550\u2550\u2550\u2550\u2550\u2550\u2550\u256a\u2550\u2550\u2550\u2550\u2550\u2550\u2550\u2550\u2550\u2550\u2550\u256a\u2550\u2550\u2550\u2550\u2550\u2550\u2550\u2550\u2550\u2550\u2561\n",
              " \u2502 3       \u2506 false     \u2506 B        \u2502\n",
              " \u2514\u2500\u2500\u2500\u2500\u2500\u2500\u2500\u2500\u2500\u2534\u2500\u2500\u2500\u2500\u2500\u2500\u2500\u2500\u2500\u2500\u2500\u2534\u2500\u2500\u2500\u2500\u2500\u2500\u2500\u2500\u2500\u2500\u2518, limit=25, error_message=None)}"
            ]
          },
          "execution_count": 20,
          "metadata": {},
          "output_type": "execute_result"
        }
      ],
      "source": [
        "result.results"
      ]
    },
    {
      "cell_type": "markdown",
      "id": "b3f449ca",
      "metadata": {},
      "source": [
        "### Athena"
      ]
    },
    {
      "cell_type": "markdown",
      "id": "cdbc7223",
      "metadata": {},
      "source": [
        "You can use this to create test data in Athena:\n",
        "\n",
        "```sql\n",
        "-- CREATE DATABASE\n",
        "CREATE DATABASE IF NOT EXISTS sqldq_demo\n",
        "\n",
        "-- Change to the database you just created\n",
        "\n",
        "-- USERS TABLE\n",
        "\n",
        "DROP TABLE IF EXISTS users;\n",
        "\n",
        "CREATE TABLE users (\n",
        "    user_id INT,\n",
        "    age INT,\n",
        "    email STRING,\n",
        "    score DECIMAL(5,2),\n",
        "    is_active BOOLEAN,\n",
        "    category STRING\n",
        ")\n",
        "LOCATION 's3://your-bucket/iceberg/users/'  -- TODO: replace with your bucket\n",
        "TBLPROPERTIES (\n",
        "    'table_type'='ICEBERG',\n",
        "    'format'='PARQUET'\n",
        ");\n",
        "\n",
        "INSERT INTO users VALUES \n",
        "    (1, 25, 'user1@example.com', 85.5, true, 'A'),\n",
        "    (2, 150, 'user2@example.com', 92.0, true, 'B'),\n",
        "    (3, 22, 'invalid-email', 78.3, false, 'B'),\n",
        "    (4, 45, 'user4@example.com', 88.7, true, 'A'),\n",
        "    (4, 30, 'user5@example.com', 95.2, false, 'C');\n",
        "\n",
        "-- ORDERS TABLE\n",
        "\n",
        "DROP TABLE IF EXISTS orders;\n",
        "\n",
        "CREATE TABLE orders (\n",
        "    order_id INT,\n",
        "    user_id INT,\n",
        "    order_date DATE,\n",
        "    order_amount DECIMAL(10,2)\n",
        ")\n",
        "LOCATION 's3://your-bucket/iceberg/orders/'  -- TODO: replace with your bucket\n",
        "TBLPROPERTIES (\n",
        "    'table_type'='ICEBERG',\n",
        "    'format'='PARQUET'\n",
        ");\n",
        "\n",
        "INSERT INTO orders VALUES \n",
        "    (1, 1, DATE '2021-01-01', 100.00),\n",
        "    (2, 2, DATE '2021-01-02', 200.00),\n",
        "    (3, 5, DATE '2021-01-03', 300.00);\n",
        "\n",
        "```"
      ]
    },
    {
      "cell_type": "code",
      "execution_count": null,
      "id": "9f46a3a0",
      "metadata": {},
      "outputs": [],
      "source": [
        "import boto3\n",
        "\n",
        "session = boto3.Session(profile_name=\"default\")\n",
        "dq = SQLDQ.from_athena(\n",
        "    database=\"sqldq_demo\", # Replace with your Athena database name in case you changed it\n",
        "    workgroup=\"your_athena_workgroup\", # Replace with your Athena workgroup (likely it's \"primary\")\n",
        "    boto3_session=session,\n",
        "    default_max_rows=30\n",
        ")\n",
        "\n",
        "dq = (\n",
        "    dq.add_check(\n",
        "        name=\"Age between 18 and 80\",\n",
        "        failure_rows_query=\"SELECT * FROM users WHERE age < 18 OR age > 80\"\n",
        "    ).add_check(\n",
        "        name=\"Email format valid\", \n",
        "        failure_rows_query=r\"SELECT * FROM users WHERE NOT regexp_like(email, '^[^@]+@[^@]+\\\\.[^@]+')\",\n",
        "        columns=[\"email\"])\n",
        "    .add_check(name=\"Active users in category A or B only\",\n",
        "                failure_rows_query=\"\"\"\n",
        "                SELECT * FROM users\n",
        "                WHERE is_active = TRUE AND category NOT IN ('A', 'B')\"\"\",\n",
        "                columns=[\"user_id\", \"is_active\", \"category\"])\n",
        "    .add_check(name=\"Inactive users in category C only\",\n",
        "                failure_rows_query=\"\"\"SELECT * FROM users \n",
        "                WHERE is_active = FALSE AND category != 'C'\"\"\",\n",
        "                columns=[\"user_id\", \"is_active\", \"category\"]))"
      ]
    },
    {
      "cell_type": "code",
      "execution_count": null,
      "id": "83364dc1",
      "metadata": {},
      "outputs": [],
      "source": [
        "result = dq.execute()\n",
        "report = result.report()\n",
        "print(report)"
      ]
    }
  ],
  "metadata": {
    "kernelspec": {
      "display_name": "sqldq",
      "language": "python",
      "name": "python3"
    },
    "language_info": {
      "codemirror_mode": {
        "name": "ipython",
        "version": 3
      },
      "file_extension": ".py",
      "mimetype": "text/x-python",
      "name": "python",
      "nbconvert_exporter": "python",
      "pygments_lexer": "ipython3",
      "version": "3.13.5"
    }
  },
  "nbformat": 4,
  "nbformat_minor": 5
}
